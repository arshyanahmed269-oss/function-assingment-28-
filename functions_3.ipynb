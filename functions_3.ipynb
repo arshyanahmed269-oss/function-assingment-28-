{
  "nbformat": 4,
  "nbformat_minor": 0,
  "metadata": {
    "colab": {
      "provenance": []
    },
    "kernelspec": {
      "name": "python3",
      "display_name": "Python 3"
    },
    "language_info": {
      "name": "python"
    }
  },
  "cells": [
    {
      "cell_type": "markdown",
      "source": [
        "#functions"
      ],
      "metadata": {
        "id": "hsNo3CEIKKKi"
      }
    },
    {
      "cell_type": "markdown",
      "source": [
        "1. What is the difference between a function and a method in Python ?\n",
        "    -  Function\n",
        "\n",
        "   1. A function is a block of reusable code that performs a specific task.\n",
        "\n",
        "   2. It is defined using the def keyword or lambda.\n",
        "\n",
        "   3. Functions can exist independently of classes and objects.\n",
        "\n",
        "     -  Method\n",
        "\n",
        "   1. A method is also a function, but it is associated with an object (i.e., it belongs to a class).\n",
        "\n",
        "   2. Methods are defined inside a class and usually operate on the data (attributes) of that class.\n",
        "\n",
        "   3. A method automatically takes the instance (self) as its first parameter.\n",
        "\n",
        "2.  Explain the concept of function arguments and parameters in Python ?\n",
        "\n",
        "    -  Parameters\n",
        "\n",
        "       Variables defined in the function definition that accept input values.\n",
        "\n",
        "    - Arguments\n",
        "\n",
        "\n",
        "       Actual values passed to the function when it is called.\n",
        "       Python supports different types of arguments:\n",
        "         1. Positional arguments\n",
        "         2. Keyword argument\n",
        "         3. Default arguments\n",
        "         4. Variable-length arguments\n",
        "\n",
        "3. What are the different ways to define and call a function in Python?\n",
        "\n",
        "    -  Different way to :\n",
        "\n",
        "       A.Defining a function :\n",
        "\n",
        "    1. Standard Function (using def):\n",
        "\n",
        "     ```\n",
        "    def greet():\n",
        "    print(\"Hello!\")\n",
        "    ```\n",
        "   2. Function with Parameters:\n",
        "\n",
        "     ```\n",
        "      def greet(name):\n",
        "      print(f\"Hello, {name}!\")\n",
        "    ```\n",
        "   3. Function with Default Parameters:\n",
        "\n",
        "     ```\n",
        "      def greet(name=\"Guest\"):\n",
        "      print(f\"Hello, {name}!\")\n",
        "     ```\n",
        "   4. Variable-length Arguments (*args and **kwargs) :\n",
        "\n",
        "     ```\n",
        "     def show_info(*args, **kwargs):\n",
        "     print(args)\n",
        "     print(kwargs)\n",
        "      ```\n",
        "   5. Lambda Function (Anonymous Function):\n",
        "\n",
        "     ```\n",
        "      square = lambda x: x * x\n",
        "      ```\n",
        "     B.Calling a function:\n",
        "\n",
        "    1. Without Arguments:\n",
        "\n",
        "      ```\n",
        "     greet()\n",
        "      ```\n",
        "    2. With Postional Arguments:\n",
        "\n",
        "     ```\n",
        "     greet(\"Arshyan\")\n",
        "      ```\n",
        "\n",
        "    3. With Keyword Arguments\n",
        "\n",
        "     ```\n",
        "     greet(name=\"Arshyan\")\n",
        "     ```\n",
        "\n",
        "   4. Unpacking Arguments:\n",
        "\n",
        "        ```\n",
        "      data = (\"Arshyan\",)\n",
        "      greet(*data)  # Unpacks tuple values\n",
        "\n",
        "       details = {\"name\": \"Arshyan\"}\n",
        "       greet(**details)  # Unpacks dictionary values\n",
        "        ```\n",
        "   5. Calling Lambda Function:\n",
        "\n",
        "       ```\n",
        "       print(square(5))\n",
        "        ```\n",
        "4. What is the purpose of the `return` statement in a Python function ?\n",
        "\n",
        "   - The  return statement in Python is used to send a value back from a    function to the place where it was called\n",
        "\n",
        "       (a)   Without return, a function gives None by default.\n",
        "\n",
        "       (b)      With return, you can use the result later.\n",
        "\n",
        "5. What are iterators in Python and how do they differ from iterables?\n",
        "     -   # A.  Iterables:\n",
        "\n",
        "     Definition: Objects capable of returning elements one at a time.\n",
        "\n",
        "     Examples: Lists, tuples, strings, sets, dictionaries, ranges, etc.\n",
        "\n",
        "     Requirement: Must have an __iter__() method.\n",
        "\n",
        "\n",
        "      ```\n",
        "       my_list = [1, 2, 3]\n",
        "        for num in my_list:  # my_list is iterable\n",
        "    print(num)\n",
        "      ```\n",
        "      #  B.Iterators:\n",
        "\n",
        "     Definition: Objects that produce the next value of a sequence when requested.\n",
        "\n",
        "     Examples: Objects returned by iter() function, file objects, generator objects.\n",
        "\n",
        "      Requirement: Must have both:\n",
        "\n",
        "      __iter__() → returns the iterator object itself.\n",
        "\n",
        "      __next__() → returns the next item, raises StopIteration when no items are left.\n",
        "\n",
        "    ```\n",
        "          my_list = [1, 2, 3]\n",
        "          my_iter = iter(my_list)  # Convert iterable to iterator\n",
        "\n",
        "          print(next(my_iter))  # 1\n",
        "          print(next(my_iter))  # 2\n",
        "          print(next(my_iter))  # 3\n",
        "          # print(next(my_iter)) → StopIteration error\n",
        "     ```\n",
        "  - Iterable: an object you can loop through (like a container).\n",
        "\n",
        "      - Iterator: the object that actually gives you elements one by one and remembers where it is.\n",
        "\n",
        "    - Example: A list is iterable, but iter(list) gives an iterator.\n",
        "\n",
        "6. Explain the concept of generators in Python and how they are defined.\n",
        "\n",
        "   # Generators:\n",
        "   -  Definition: Generators are special iterators that are defined using a function with the yield keyword instead of return.\n",
        "\n",
        "      Purpose: They allow you to produce values one at a time, on demand, without storing the entire sequence in memory.\n",
        "\n",
        "       Nature:  They are lazy iterators, meaning values are generated only when requested.\n",
        "\n",
        "         Reason to use : memory efficient, infinite sequences, faster for large data.\n",
        "  \n",
        "      # Define Generators\n",
        "\n",
        "     1. Use the def keyword to define a function.\n",
        "\n",
        "     2. Use yield instead of return.\n",
        "            \n",
        "     3. When called, the function returns a generator object, not a value.\n",
        "\n",
        "          ```\n",
        "           #simple Generator example:\n",
        "\n",
        "           counter = count_up_to(3)\n",
        "\n",
        "           print(next(counter))  # 1\n",
        "            print(next(counter))  # 2\n",
        "            print(next(counter))  # 3\n",
        "            # print(next(counter)) → StopIteration\n",
        "          ```\n",
        " 7. What are the advantages of using generators over regular functions?\n",
        "\n",
        "     - Advantages of generators over regular function:\n",
        "       1. Memory Efficiency →\n",
        "            Generators produce one item at a time instead of storing all results in memory, making them ideal for large datasets or infinite sequences.\n",
        "\n",
        "        2. Lazy Evaluation →\n",
        "             Values are generated only when requested, which saves processing time and resources.\n",
        "\n",
        "         3. Infinite Sequences Support →\n",
        "               Generators can represent endless streams (e.g., sensor readings, log files) without running out of memory.\n",
        "\n",
        "         4. Faster Start Time →\n",
        "               Generators start producing output immediately without waiting for all calculations to finish.\n",
        "\n",
        "8. What is a lambda function in Python and when is it typically used?\n",
        "\n",
        "     - A lambda function in Python is a small, anonymous function created using the lambda keyword.\n",
        "\n",
        "        - It can take multiple arguments but only has one expression whose result is returned.\n",
        "\n",
        "         - Syntax: lambda arguments: expression.\n",
        "\n",
        "         - They are typically used for short, quick tasks without defining a full function using def.\n",
        "\n",
        "       -  Commonly used with functions like map(), filter(), and sorted().\n",
        "\n",
        "             Example:\n",
        "                  ```\n",
        "                  square = lambda x: x*x → square(5)\n",
        "                  ```\n",
        "9. Explain the purpose and usage of the `map()` function in Python ?\n",
        "\n",
        "    - The map() function in Python is used to apply a function to each item in an iterable (like a list, tuple, or string) and returns a map object (an iterator).\n",
        "\n",
        "     - Purpose\n",
        "\n",
        "       To avoid writing loops for element-wise operations.\n",
        "\n",
        "         Makes code cleaner and more concise.\n",
        "\n",
        "          Syntax\n",
        "\n",
        "         ```\n",
        "              (function, iterable)\n",
        "          ```\n",
        "\n",
        "         function → A function that will be applied to each item.\n",
        "\n",
        "         iterable → A sequence (list, tuple, set, etc.).\n",
        "\n",
        "         we can also pass  multiple iterables, and the function should accept that many arguments.\n",
        "\n",
        "       Example -\n",
        "\n",
        "        ```numbers = [1, 2, 3, 4, 5]\n",
        "             squared = map(lambda x: x**2, numbers)\n",
        "\n",
        "             print(list(squared))  \n",
        "            # Output: [1, 4, 9, 16, 25]\n",
        "       ```\n",
        "10.  What is the difference between `map()`, `reduce()`, and `filter()`      functions in Python ?\n",
        "     -   1. Map() → Applies a function to each element of an iterable.\n",
        "\n",
        "             Returns an iterator with transformed elements.\n",
        "\n",
        "         2. filter() → Selects elements where the function returns True.\n",
        "\n",
        "            Returns an iterator with only the filtered elements.\n",
        "\n",
        "         3. reduce() → Combines elements cumulatively using a function.\n",
        "\n",
        "          Returns a single final result.\n",
        "\n",
        "        Example:\n",
        "\n",
        "\n",
        "       ```\n",
        "               map(lambda x: x*2, [1,2,3])\n",
        "                #output: [2,4,6]\n",
        "\n",
        "                filter(lambda x: x>2, [1,2,3])\n",
        "                  #Output: [3]\n",
        "\n",
        "                 reduce(lambda x,y: x+y, [1,2,3])\n",
        "                  #Output: 6.\n",
        "                               ```\n",
        "\n",
        "11. Using pen & Paper write the internal mechanism for sum operation using      reduce function on this given list:[47,11,42,13]; ?\n",
        "     - From functools import reduce\n",
        "     nums = [47,11,42,13] result =reduce (lambda x,y:x+y,nums) print(result)\n",
        "\n",
        "     Internal Mechansim (Step BY Step)\n",
        "\n",
        "     1.Take the first two elements--> apply the function.\n",
        "     \n",
        "     2.Take the result and the next element --> apply the function again.\n",
        "     \n",
        "     3.continue until one value is\n",
        "\n",
        "     for the given list [ 47,11,42,13]:\n",
        "     \n",
        "     1. Step 1: x = 47, y = 11 --> 47 + 11  = 58\n",
        "     2. Step 2: x = 58, y = 42 --> 58 + 42 = 100\n",
        "     3. Step 3: x = 100, y = 13 --> 100 + 13 = 113"
      ],
      "metadata": {
        "id": "WI-u_mdXH6fF"
      }
    },
    {
      "cell_type": "markdown",
      "source": [
        "#practical question"
      ],
      "metadata": {
        "id": "DbB47XIItByK"
      }
    },
    {
      "cell_type": "code",
      "source": [
        "#1. Write a Python function that takes a list of numbers as input and returns the sum of all even numbers in the list .\n",
        "\n",
        " # Function to sum all even numbers in a list\n",
        "def sum_even_numbers(numbers):\n",
        "    return sum(num for num in numbers if num % 2 == 0)\n",
        "\n",
        "# Example list\n",
        "my_list = [3, 8, 12, 7, 5, 10, 15, 20]\n",
        "\n",
        "# Function call\n",
        "result = sum_even_numbers(my_list)\n",
        "\n",
        "print(\"Original List:\", my_list)\n",
        "print(\"Sum of Even Numbers:\", result)\n"
      ],
      "metadata": {
        "colab": {
          "base_uri": "https://localhost:8080/"
        },
        "id": "KjskqUTdtb25",
        "outputId": "dd7bb251-3ea4-43ee-8981-123bcd806617"
      },
      "execution_count": null,
      "outputs": [
        {
          "output_type": "stream",
          "name": "stdout",
          "text": [
            "Original List: [3, 8, 12, 7, 5, 10, 15, 20]\n",
            "Sum of Even Numbers: 50\n"
          ]
        }
      ]
    },
    {
      "cell_type": "code",
      "source": [
        "#2.  Create a Python function that accepts a string and returns the reverse of that string ?\n",
        "\n",
        "def reverse(string):\n",
        "  return string[::-1]\n",
        "\n",
        "\n",
        "string=input(\"Enter the string \")\n",
        "reverse_string=reverse(string)\n",
        "print(f\"Reverse of {string} is {reverse_string}\")"
      ],
      "metadata": {
        "colab": {
          "base_uri": "https://localhost:8080/"
        },
        "id": "wWu7HKHfbTja",
        "outputId": "0b4a5d57-64e2-403a-e09a-b77bee5fe618"
      },
      "execution_count": null,
      "outputs": [
        {
          "output_type": "stream",
          "name": "stdout",
          "text": [
            "Enter the string Hello\n",
            "Reverse of Hello is olleH\n"
          ]
        }
      ]
    },
    {
      "cell_type": "code",
      "source": [
        "#3. Implement a Python function that takes a list of integers and returns a new list containing the squares of each number ?\n",
        "def square_list(numbers):\n",
        "    squared = []\n",
        "    for num in numbers:        # loop through each number\n",
        "        squared.append(num ** 2)  # square it and add to list\n",
        "    return squared\n",
        "\n",
        "# Example usage:\n",
        "nums = [1, 2, 3, 4, 5]\n",
        "print(\"Original List:\", nums)\n",
        "print(\"Squared List:\", square_list(nums))"
      ],
      "metadata": {
        "id": "MpVpuo1Kwj__",
        "colab": {
          "base_uri": "https://localhost:8080/"
        },
        "outputId": "56daa8fb-872f-4442-890c-bf42161ff498"
      },
      "execution_count": null,
      "outputs": [
        {
          "output_type": "stream",
          "name": "stdout",
          "text": [
            "Original List: [1, 2, 3, 4, 5]\n",
            "Squared List: [1, 4, 9, 16, 25]\n"
          ]
        }
      ]
    },
    {
      "cell_type": "code",
      "source": [
        "# 4. Write a Python function that checks if a given number is prime or not from 1 to 200.\n",
        "from math import sqrt\n",
        "def primeNo(num):\n",
        "  if num==1 or num==0:\n",
        "    print(\"Not a prime number\")\n",
        "\n",
        "  for i in range(2,int(sqrt(num))+1):\n",
        "   if num%i==0:\n",
        "    return False\n",
        "\n",
        "  return True\n",
        "\n",
        "\n",
        "num=int(input(\"Enter a number between (1 to 200):\"))\n",
        "check=primeNo(num)\n",
        "print(f\"The {num} is a prime number : {check}\")"
      ],
      "metadata": {
        "colab": {
          "base_uri": "https://localhost:8080/"
        },
        "id": "_VfCqnoodyTd",
        "outputId": "a4c0bc1f-a3e1-4d5e-f85c-dd8b2a502da0"
      },
      "execution_count": null,
      "outputs": [
        {
          "output_type": "stream",
          "name": "stdout",
          "text": [
            "Enter a number between (1 to 200):7\n",
            "The 7 is a prime number : True\n"
          ]
        }
      ]
    },
    {
      "cell_type": "code",
      "source": [
        "# 5.  Create an iterator class in Python that generates the Fibonacci sequence up to a specified number of terms.\n",
        "\n",
        "def fibonacci_generator(n_terms):\n",
        "\n",
        "    a, b = 0, 1  # Initialize the first two Fibonacci numbers\n",
        "    count = 0\n",
        "\n",
        "    while count < n_terms:\n",
        "        yield a  # Yield the current Fibonacci number\n",
        "        a, b = b, a + b  # Update to the next pair of Fibonacci numbers\n",
        "        count += 1\n",
        "\n",
        "fib_gen = fibonacci_generator(10)\n",
        "\n",
        "print(\"First 10 Fibonacci numbers:\")\n",
        "for num in fib_gen:\n",
        "    print(num, end=\" \")\n"
      ],
      "metadata": {
        "colab": {
          "base_uri": "https://localhost:8080/"
        },
        "id": "ETVhqQO4fTxT",
        "outputId": "e65fe878-d983-428f-e608-ceb67e929429"
      },
      "execution_count": null,
      "outputs": [
        {
          "output_type": "stream",
          "name": "stdout",
          "text": [
            "First 10 Fibonacci numbers:\n",
            "0 1 1 2 3 5 8 13 21 34 "
          ]
        }
      ]
    },
    {
      "cell_type": "code",
      "source": [
        "# 6.  Write a generator function in Python that yields the powers of 2 up to a given exponent.\n",
        "\n",
        "def max_exponent(num):\n",
        "  for i in  range(0,num+1):\n",
        "    a=2**i\n",
        "    yield a\n",
        "\n",
        "\n",
        "num=int(input(\"Enter the power of exponent : \"))\n",
        "gen=max_exponent(num)\n",
        "\n",
        "for _ in range(num+1):\n",
        "    print(next(gen))"
      ],
      "metadata": {
        "colab": {
          "base_uri": "https://localhost:8080/"
        },
        "id": "qU3W1ZrCgS6f",
        "outputId": "da61e758-ddbd-46a5-c94c-48388a5140fa"
      },
      "execution_count": null,
      "outputs": [
        {
          "output_type": "stream",
          "name": "stdout",
          "text": [
            "Enter the power of exponent : 5\n",
            "1\n",
            "2\n",
            "4\n",
            "8\n",
            "16\n",
            "32\n"
          ]
        }
      ]
    },
    {
      "cell_type": "code",
      "source": [
        "#7. Implement a generator function that reads a file line by line and yields each line as a string.\n",
        "\n",
        "def read_lines(file_content):\n",
        "    for line in file_content:\n",
        "        yield line.strip()  # remove any extra spaces/newlines\n",
        "\n",
        "# Simulated file content as a list of strings\n",
        "file = [\n",
        "    \"This is the first line\\n\",\n",
        "    \"This is the second line\\n\",\n",
        "    \"This is the third line\\n\"\n",
        "]\n",
        "\n",
        "# Using the generator\n",
        "for line in read_lines(file):\n",
        "    print(line)\n"
      ],
      "metadata": {
        "colab": {
          "base_uri": "https://localhost:8080/"
        },
        "id": "0t23X0HygI90",
        "outputId": "84331dcf-6f7d-4431-df1c-cbe56ab7958f"
      },
      "execution_count": null,
      "outputs": [
        {
          "output_type": "stream",
          "name": "stdout",
          "text": [
            "This is the first line\n",
            "This is the second line\n",
            "This is the third line\n"
          ]
        }
      ]
    },
    {
      "cell_type": "code",
      "source": [
        "#8. Use a lambda function in Python to sort a list of tuples based on the second element of each tuple.\n",
        "\n",
        "data = [(1, 5), (3, 2), (2, 8), (4, 1)]\n",
        "# Sort based on second element using lambda\n",
        "sorted_list = sorted(data, key=lambda x: x[1])\n",
        "print(\"Original List:\", data)\n",
        "print(\"Sorted List:\", sorted_list)"
      ],
      "metadata": {
        "colab": {
          "base_uri": "https://localhost:8080/"
        },
        "id": "g5xNM5SZgmn0",
        "outputId": "7fbe5b6d-aac2-407b-8cb5-27d0c673294c"
      },
      "execution_count": null,
      "outputs": [
        {
          "output_type": "stream",
          "name": "stdout",
          "text": [
            "Original List: [(1, 5), (3, 2), (2, 8), (4, 1)]\n",
            "Sorted List: [(4, 1), (3, 2), (1, 5), (2, 8)]\n"
          ]
        }
      ]
    },
    {
      "cell_type": "code",
      "source": [
        "#9. Write a Python program that uses `map()` to convert a list of temperatures from Celsius to Fahrenheit.\n",
        "\n",
        "\n",
        "celsius = [0, 20, 37, 100]\n",
        "\n",
        "# Using map() with lambda\n",
        "fahrenheit = list(map(lambda c: (c * 9/5) + 32, celsius))\n",
        "\n",
        "# Output the result\n",
        "print(\"Celsius:   \", celsius)\n",
        "print(\"Fahrenheit:\", fahrenheit)"
      ],
      "metadata": {
        "colab": {
          "base_uri": "https://localhost:8080/"
        },
        "id": "qgl-XYFJgtWL",
        "outputId": "8887ea37-ce73-4f47-8789-36761f3d5d74"
      },
      "execution_count": null,
      "outputs": [
        {
          "output_type": "stream",
          "name": "stdout",
          "text": [
            "Celsius:    [0, 20, 37, 100]\n",
            "Fahrenheit: [32.0, 68.0, 98.6, 212.0]\n"
          ]
        }
      ]
    },
    {
      "cell_type": "code",
      "source": [
        "#10. Create a Python program that uses `filter()` to remove all the vowels from a given string.\n",
        "\n",
        "string=input(\"enter the string :\")\n",
        "new_string=string.lower()\n",
        "\n",
        "vowels = ['a', 'e', 'i', 'o', 'u']\n",
        "filtered_string = ''.join(filter(lambda x: x not in vowels, new_string))\n",
        "\n",
        "print(\"Original string:\", string)\n",
        "print(\"Filtered string:\", filtered_string)"
      ],
      "metadata": {
        "colab": {
          "base_uri": "https://localhost:8080/"
        },
        "id": "aFIPUaEng1dU",
        "outputId": "4f1d4962-829a-4b49-eb24-653f1e73583b"
      },
      "execution_count": null,
      "outputs": [
        {
          "output_type": "stream",
          "name": "stdout",
          "text": [
            "enter the string :arshyan\n",
            "Original string: arshyan\n",
            "Filtered string: rshyn\n"
          ]
        }
      ]
    },
    {
      "cell_type": "code",
      "source": [
        "#11. magine an accounting routine used in a book shop.\n",
        "#It works on a list with sublists, which look like this:\n",
        "# Write a Python program, which returns a list with 2-tuples. Each tuple consists of the order number and the\n",
        "#product of the price per item and the quantity. The product should be increased by 10,- if the value of the\n",
        "#order is smaller than 100,00 .\n",
        "# Write a Python program using lambda and map.\n",
        "# Book shop orders: (Order Number , (Book Title & Author, Quantity , Price per Item ))\n",
        "orders = [\n",
        "    (34587, (\"Learning Python, Mark Lutz\",4, 40.95)),\n",
        "    (98762, (\"Programming Python, Mark Lutz\" ,5, 56.80)),\n",
        "    (77226, (\"Head First Python, Paul Barry\",3, 32.95)),\n",
        "    (88112, (\"Einfuhrung in Python3,Bernd klein\",3, 24.99))\n",
        "]\n",
        "# Accounting routine with lamda and map\n",
        "result = list(map(\n",
        "    lambda order : (order[0],\n",
        "                   round(order[1][1]*order[1][2] + 10,2))\n",
        "         if (order[1][1] *order[1][2])<100\n",
        "         else (order[0],\n",
        "               round(order[1][1] * order[1][2], 2)),\n",
        "        orders\n",
        "))\n",
        "#print results\n",
        "for r in result:\n",
        "  print (f\"Order {r[0]}  --> Total: {r[1]}€'\")"
      ],
      "metadata": {
        "colab": {
          "base_uri": "https://localhost:8080/"
        },
        "id": "kKiqFvTRhA0E",
        "outputId": "b91ac8db-6bf0-4acc-85e8-b15c870f776b"
      },
      "execution_count": null,
      "outputs": [
        {
          "output_type": "stream",
          "name": "stdout",
          "text": [
            "Order 34587  --> Total: 163.8€'\n",
            "Order 98762  --> Total: 284.0€'\n",
            "Order 77226  --> Total: 108.85€'\n",
            "Order 88112  --> Total: 84.97€'\n"
          ]
        }
      ]
    },
    {
      "cell_type": "code",
      "source": [],
      "metadata": {
        "id": "06uxixdLi0MC"
      },
      "execution_count": null,
      "outputs": []
    }
  ]
}